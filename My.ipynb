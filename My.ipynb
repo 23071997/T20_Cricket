{
  "nbformat": 4,
  "nbformat_minor": 0,
  "metadata": {
    "colab": {
      "name": "My.ipynb",
      "provenance": [],
      "collapsed_sections": [],
      "mount_file_id": "1T6vf3Gmut_6tdWdoT-s5q3gNvYt97G1-",
      "authorship_tag": "ABX9TyNcLqFrsqiYvfcjLgdGu76K",
      "include_colab_link": true
    },
    "kernelspec": {
      "name": "python3",
      "display_name": "Python 3"
    }
  },
  "cells": [
    {
      "cell_type": "markdown",
      "metadata": {
        "id": "view-in-github",
        "colab_type": "text"
      },
      "source": [
        "<a href=\"https://colab.research.google.com/github/23071997/T20_Cricket/blob/main/My.ipynb\" target=\"_parent\"><img src=\"https://colab.research.google.com/assets/colab-badge.svg\" alt=\"Open In Colab\"/></a>"
      ]
    },
    {
      "cell_type": "code",
      "metadata": {
        "id": "U3QLehdb0BDT"
      },
      "source": [
        "import pandas as pd\r\n",
        "import seaborn as sns\r\n",
        "from ast import literal_eval"
      ],
      "execution_count": 62,
      "outputs": []
    },
    {
      "cell_type": "code",
      "metadata": {
        "id": "eqfgiVafybOy"
      },
      "source": [
        "path ='/content/drive/MyDrive/Colab Notebooks/'\r\n",
        "df=pd.read_csv(path + 'International_T20_Data.csv')"
      ],
      "execution_count": 27,
      "outputs": []
    },
    {
      "cell_type": "code",
      "metadata": {
        "colab": {
          "base_uri": "https://localhost:8080/",
          "height": 598
        },
        "id": "iAgkoO930RX0",
        "outputId": "bccfd2bd-5272-4e68-ca22-621318edfeef"
      },
      "source": [
        "df.head()"
      ],
      "execution_count": 28,
      "outputs": [
        {
          "output_type": "execute_result",
          "data": {
            "text/html": [
              "<div>\n",
              "<style scoped>\n",
              "    .dataframe tbody tr th:only-of-type {\n",
              "        vertical-align: middle;\n",
              "    }\n",
              "\n",
              "    .dataframe tbody tr th {\n",
              "        vertical-align: top;\n",
              "    }\n",
              "\n",
              "    .dataframe thead th {\n",
              "        text-align: right;\n",
              "    }\n",
              "</style>\n",
              "<table border=\"1\" class=\"dataframe\">\n",
              "  <thead>\n",
              "    <tr style=\"text-align: right;\">\n",
              "      <th></th>\n",
              "      <th>innings</th>\n",
              "      <th>meta.data_version</th>\n",
              "      <th>meta.created</th>\n",
              "      <th>meta.revision</th>\n",
              "      <th>info.dates</th>\n",
              "      <th>info.gender</th>\n",
              "      <th>info.match_type</th>\n",
              "      <th>info.outcome.by.wickets</th>\n",
              "      <th>info.outcome.winner</th>\n",
              "      <th>info.overs</th>\n",
              "      <th>info.player_of_match</th>\n",
              "      <th>info.teams</th>\n",
              "      <th>info.toss.decision</th>\n",
              "      <th>info.toss.winner</th>\n",
              "      <th>info.umpires</th>\n",
              "      <th>info.venue</th>\n",
              "      <th>info.city</th>\n",
              "      <th>info.outcome.by.runs</th>\n",
              "      <th>info.match_type_number</th>\n",
              "      <th>info.neutral_venue</th>\n",
              "      <th>info.outcome.method</th>\n",
              "      <th>info.outcome.result</th>\n",
              "      <th>info.outcome.eliminator</th>\n",
              "      <th>info.supersubs.New Zealand</th>\n",
              "      <th>info.supersubs.South Africa</th>\n",
              "      <th>info.bowl_out</th>\n",
              "      <th>info.outcome.bowl_out</th>\n",
              "    </tr>\n",
              "  </thead>\n",
              "  <tbody>\n",
              "    <tr>\n",
              "      <th>0</th>\n",
              "      <td>[{'1st innings': {'team': 'Australia', 'delive...</td>\n",
              "      <td>0.9</td>\n",
              "      <td>2017-02-18</td>\n",
              "      <td>2</td>\n",
              "      <td>[datetime.date(2017, 2, 17)]</td>\n",
              "      <td>male</td>\n",
              "      <td>T20</td>\n",
              "      <td>5.0</td>\n",
              "      <td>Sri Lanka</td>\n",
              "      <td>20</td>\n",
              "      <td>['DAS Gunaratne']</td>\n",
              "      <td>['Australia', 'Sri Lanka']</td>\n",
              "      <td>field</td>\n",
              "      <td>Sri Lanka</td>\n",
              "      <td>['MD Martell', 'P Wilson']</td>\n",
              "      <td>Melbourne Cricket Ground</td>\n",
              "      <td>NaN</td>\n",
              "      <td>NaN</td>\n",
              "      <td>NaN</td>\n",
              "      <td>NaN</td>\n",
              "      <td>NaN</td>\n",
              "      <td>NaN</td>\n",
              "      <td>NaN</td>\n",
              "      <td>NaN</td>\n",
              "      <td>NaN</td>\n",
              "      <td>NaN</td>\n",
              "      <td>NaN</td>\n",
              "    </tr>\n",
              "    <tr>\n",
              "      <th>1</th>\n",
              "      <td>[{'1st innings': {'team': 'Australia', 'delive...</td>\n",
              "      <td>0.9</td>\n",
              "      <td>2017-02-19</td>\n",
              "      <td>2</td>\n",
              "      <td>[datetime.date(2017, 2, 19)]</td>\n",
              "      <td>male</td>\n",
              "      <td>T20</td>\n",
              "      <td>2.0</td>\n",
              "      <td>Sri Lanka</td>\n",
              "      <td>20</td>\n",
              "      <td>['DAS Gunaratne']</td>\n",
              "      <td>['Australia', 'Sri Lanka']</td>\n",
              "      <td>field</td>\n",
              "      <td>Sri Lanka</td>\n",
              "      <td>['SD Fry', 'SJ Nogajski']</td>\n",
              "      <td>Simonds Stadium, South Geelong</td>\n",
              "      <td>Victoria</td>\n",
              "      <td>NaN</td>\n",
              "      <td>NaN</td>\n",
              "      <td>NaN</td>\n",
              "      <td>NaN</td>\n",
              "      <td>NaN</td>\n",
              "      <td>NaN</td>\n",
              "      <td>NaN</td>\n",
              "      <td>NaN</td>\n",
              "      <td>NaN</td>\n",
              "      <td>NaN</td>\n",
              "    </tr>\n",
              "    <tr>\n",
              "      <th>2</th>\n",
              "      <td>[{'1st innings': {'team': 'Australia', 'delive...</td>\n",
              "      <td>0.9</td>\n",
              "      <td>2017-02-23</td>\n",
              "      <td>1</td>\n",
              "      <td>[datetime.date(2017, 2, 22)]</td>\n",
              "      <td>male</td>\n",
              "      <td>T20</td>\n",
              "      <td>NaN</td>\n",
              "      <td>Australia</td>\n",
              "      <td>20</td>\n",
              "      <td>['A Zampa']</td>\n",
              "      <td>['Australia', 'Sri Lanka']</td>\n",
              "      <td>field</td>\n",
              "      <td>Sri Lanka</td>\n",
              "      <td>['MD Martell', 'P Wilson']</td>\n",
              "      <td>Adelaide Oval</td>\n",
              "      <td>NaN</td>\n",
              "      <td>41.0</td>\n",
              "      <td>NaN</td>\n",
              "      <td>NaN</td>\n",
              "      <td>NaN</td>\n",
              "      <td>NaN</td>\n",
              "      <td>NaN</td>\n",
              "      <td>NaN</td>\n",
              "      <td>NaN</td>\n",
              "      <td>NaN</td>\n",
              "      <td>NaN</td>\n",
              "    </tr>\n",
              "    <tr>\n",
              "      <th>3</th>\n",
              "      <td>[{'1st innings': {'team': 'Hong Kong', 'delive...</td>\n",
              "      <td>0.9</td>\n",
              "      <td>2016-09-12</td>\n",
              "      <td>1</td>\n",
              "      <td>[datetime.date(2016, 9, 5)]</td>\n",
              "      <td>male</td>\n",
              "      <td>T20</td>\n",
              "      <td>NaN</td>\n",
              "      <td>Hong Kong</td>\n",
              "      <td>20</td>\n",
              "      <td>NaN</td>\n",
              "      <td>['Ireland', 'Hong Kong']</td>\n",
              "      <td>bat</td>\n",
              "      <td>Hong Kong</td>\n",
              "      <td>['R Black', 'AJ Neill']</td>\n",
              "      <td>Bready Cricket Club, Magheramason</td>\n",
              "      <td>Londonderry</td>\n",
              "      <td>40.0</td>\n",
              "      <td>NaN</td>\n",
              "      <td>NaN</td>\n",
              "      <td>NaN</td>\n",
              "      <td>NaN</td>\n",
              "      <td>NaN</td>\n",
              "      <td>NaN</td>\n",
              "      <td>NaN</td>\n",
              "      <td>NaN</td>\n",
              "      <td>NaN</td>\n",
              "    </tr>\n",
              "    <tr>\n",
              "      <th>4</th>\n",
              "      <td>[{'1st innings': {'team': 'Zimbabwe', 'deliver...</td>\n",
              "      <td>0.9</td>\n",
              "      <td>2016-06-19</td>\n",
              "      <td>1</td>\n",
              "      <td>[datetime.date(2016, 6, 18)]</td>\n",
              "      <td>male</td>\n",
              "      <td>T20</td>\n",
              "      <td>NaN</td>\n",
              "      <td>Zimbabwe</td>\n",
              "      <td>20</td>\n",
              "      <td>['E Chigumbura']</td>\n",
              "      <td>['Zimbabwe', 'India']</td>\n",
              "      <td>field</td>\n",
              "      <td>India</td>\n",
              "      <td>['TJ Matibiri', 'RB Tiffin']</td>\n",
              "      <td>Harare Sports Club</td>\n",
              "      <td>NaN</td>\n",
              "      <td>2.0</td>\n",
              "      <td>NaN</td>\n",
              "      <td>NaN</td>\n",
              "      <td>NaN</td>\n",
              "      <td>NaN</td>\n",
              "      <td>NaN</td>\n",
              "      <td>NaN</td>\n",
              "      <td>NaN</td>\n",
              "      <td>NaN</td>\n",
              "      <td>NaN</td>\n",
              "    </tr>\n",
              "  </tbody>\n",
              "</table>\n",
              "</div>"
            ],
            "text/plain": [
              "                                             innings  ...  info.outcome.bowl_out\n",
              "0  [{'1st innings': {'team': 'Australia', 'delive...  ...                    NaN\n",
              "1  [{'1st innings': {'team': 'Australia', 'delive...  ...                    NaN\n",
              "2  [{'1st innings': {'team': 'Australia', 'delive...  ...                    NaN\n",
              "3  [{'1st innings': {'team': 'Hong Kong', 'delive...  ...                    NaN\n",
              "4  [{'1st innings': {'team': 'Zimbabwe', 'deliver...  ...                    NaN\n",
              "\n",
              "[5 rows x 27 columns]"
            ]
          },
          "metadata": {
            "tags": []
          },
          "execution_count": 28
        }
      ]
    },
    {
      "cell_type": "code",
      "metadata": {
        "colab": {
          "base_uri": "https://localhost:8080/",
          "height": 137
        },
        "id": "cCKm7Yv8EwZR",
        "outputId": "6cf23c88-bdb0-45f0-9941-54f7410e1441"
      },
      "source": [
        "df['innings'][0]"
      ],
      "execution_count": 29,
      "outputs": [
        {
          "output_type": "execute_result",
          "data": {
            "application/vnd.google.colaboratory.intrinsic+json": {
              "type": "string"
            },
            "text/plain": [
              "\"[{'1st innings': {'team': 'Australia', 'deliveries': [{0.1: {'batsman': 'AJ Finch', 'bowler': 'SL Malinga', 'non_striker': 'M Klinger', 'runs': {'batsman': 0, 'extras': 0, 'total': 0}}}, {0.2: {'batsman': 'AJ Finch', 'bowler': 'SL Malinga', 'non_striker': 'M Klinger', 'runs': {'batsman': 0, 'extras': 0, 'total': 0}}}, {0.3: {'batsman': 'AJ Finch', 'bowler': 'SL Malinga', 'non_striker': 'M Klinger', 'runs': {'batsman': 1, 'extras': 0, 'total': 1}}}, {0.4: {'batsman': 'M Klinger', 'bowler': 'SL Malinga', 'non_striker': 'AJ Finch', 'runs': {'batsman': 2, 'extras': 0, 'total': 2}}}, {0.5: {'batsman': 'M Klinger', 'bowler': 'SL Malinga', 'non_striker': 'AJ Finch', 'runs': {'batsman': 0, 'extras': 0, 'total': 0}}}, {0.6: {'batsman': 'M Klinger', 'bowler': 'SL Malinga', 'non_striker': 'AJ Finch', 'runs': {'batsman': 3, 'extras': 0, 'total': 3}}}, {1.1: {'batsman': 'M Klinger', 'bowler': 'KMDN Kulasekara', 'non_striker': 'AJ Finch', 'runs': {'batsman': 0, 'extras': 0, 'total': 0}}}, {1.2: {'batsman': 'M Klinger', 'bowler': 'KMDN Kulasekara', 'non_striker': 'AJ Finch', 'runs': {'batsman': 1, 'extras': 0, 'total': 1}}}, {1.3: {'batsman': 'AJ Finch', 'bowler': 'KMDN Kulasekara', 'non_striker': 'M Klinger', 'runs': {'batsman': 0, 'extras': 0, 'total': 0}}}, {1.4: {'batsman': 'AJ Finch', 'bowler': 'KMDN Kulasekara', 'non_striker': 'M Klinger', 'runs': {'batsman': 0, 'extras': 0, 'total': 0}}}, {1.5: {'batsman': 'AJ Finch', 'bowler': 'KMDN Kulasekara', 'non_striker': 'M Klinger', 'runs': {'batsman': 4, 'extras': 0, 'total': 4}}}, {1.6: {'batsman': 'AJ Finch', 'bowler': 'KMDN Kulasekara', 'non_striker': 'M Klinger', 'runs': {'batsman': 2, 'extras': 0, 'total': 2}}}, {2.1: {'batsman': 'M Klinger', 'bowler': 'JRMVB Sanjaya', 'non_striker': 'AJ Finch', 'runs': {'batsman': 1, 'extras': 0, 'total': 1}}}, {2.2: {'batsman': 'AJ Finch', 'bowler': 'JRMVB Sanjaya', 'non_striker': 'M Klinger', 'runs': {'batsman': 1, 'extras': 0, 'total': 1}}}, {2.3: {'batsman': 'M Klinger', 'bowler': 'JRMVB Sanjaya', 'non_striker': 'AJ Finch', 'runs': {'batsman': 0, 'extras': 0, 'total': 0}}}, {2.4: {'batsman': 'M Klinger', 'bowler': 'JRMVB Sanjaya', 'non_striker': 'AJ Finch', 'runs': {'batsman': 0, 'extras': 0, 'total': 0}}}, {2.5: {'batsman': 'M Klinger', 'bowler': 'JRMVB Sanjaya', 'non_striker': 'AJ Finch', 'runs': {'batsman': 4, 'extras': 0, 'total': 4}}}, {2.6: {'batsman': 'M Klinger', 'bowler': 'JRMVB Sanjaya', 'non_striker': 'AJ Finch', 'runs': {'batsman': 0, 'extras': 0, 'total': 0}}}, {3.1: {'batsman': 'AJ Finch', 'bowler': 'KMDN Kulasekara', 'non_striker': 'M Klinger', 'runs': {'batsman': 0, 'extras': 0, 'total': 0}}}, {3.2: {'batsman': 'AJ Finch', 'bowler': 'KMDN Kulasekara', 'non_striker': 'M Klinger', 'runs': {'batsman': 1, 'extras': 0, 'total': 1}}}, {3.3: {'batsman': 'M Klinger', 'bowler': 'KMDN Kulasekara', 'non_striker': 'AJ Finch', 'runs': {'batsman': 1, 'extras': 0, 'total': 1}}}, {3.4: {'batsman': 'AJ Finch', 'bowler': 'KMDN Kulasekara', 'non_striker': 'M Klinger', 'runs': {'batsman': 1, 'extras': 0, 'total': 1}}}, {3.5: {'batsman': 'M Klinger', 'bowler': 'KMDN Kulasekara', 'non_striker': 'AJ Finch', 'runs': {'batsman': 4, 'extras': 0, 'total': 4}}}, {3.6: {'batsman': 'M Klinger', 'bowler': 'KMDN Kulasekara', 'non_striker': 'AJ Finch', 'runs': {'batsman': 1, 'extras': 0, 'total': 1}}}, {4.1: {'batsman': 'M Klinger', 'bowler': 'JRMVB Sanjaya', 'non_striker': 'AJ Finch', 'runs': {'batsman': 3, 'extras': 0, 'total': 3}}}, {4.2: {'batsman': 'AJ Finch', 'bowler': 'JRMVB Sanjaya', 'non_striker': 'M Klinger', 'runs': {'batsman': 3, 'extras': 0, 'total': 3}}}, {4.3: {'batsman': 'M Klinger', 'bowler': 'JRMVB Sanjaya', 'non_striker': 'AJ Finch', 'runs': {'batsman': 4, 'extras': 0, 'total': 4}}}, {4.4: {'batsman': 'M Klinger', 'bowler': 'JRMVB Sanjaya', 'non_striker': 'AJ Finch', 'runs': {'batsman': 4, 'extras': 0, 'total': 4}}}, {4.5: {'batsman': 'M Klinger', 'bowler': 'JRMVB Sanjaya', 'non_striker': 'AJ Finch', 'runs': {'batsman': 1, 'extras': 0, 'total': 1}}}, {4.6: {'batsman': 'AJ Finch', 'bowler': 'JRMVB Sanjaya', 'non_striker': 'M Klinger', 'runs': {'batsman': 1, 'extras': 0, 'total': 1}}}, {5.1: {'batsman': 'AJ Finch', 'bowler': 'S Prasanna', 'non_striker': 'M Klinger', 'runs': {'batsman': 1, 'extras': 0, 'total': 1}}}, {5.2: {'batsman': 'M Klinger', 'bowler': 'S Prasanna', 'extras': {'wides': 1}, 'non_striker': 'AJ Finch', 'runs': {'batsman': 0, 'extras': 1, 'total': 1}}}, {5.3: {'batsman': 'M Klinger', 'bowler': 'S Prasanna', 'non_striker': 'AJ Finch', 'runs': {'batsman': 0, 'extras': 0, 'total': 0}}}, {5.4: {'batsman': 'M Klinger', 'bowler': 'S Prasanna', 'non_striker': 'AJ Finch', 'runs': {'batsman': 0, 'extras': 0, 'total': 0}}}, {5.5: {'batsman': 'M Klinger', 'bowler': 'S Prasanna', 'non_striker': 'AJ Finch', 'runs': {'batsman': 1, 'extras': 0, 'total': 1}}}, {5.6: {'batsman': 'AJ Finch', 'bowler': 'S Prasanna', 'non_striker': 'M Klinger', 'runs': {'batsman': 1, 'extras': 0, 'total': 1}}}, {5.7: {'batsman': 'M Klinger', 'bowler': 'S Prasanna', 'non_striker': 'AJ Finch', 'runs': {'batsman': 0, 'extras': 0, 'total': 0}}}, {6.1: {'batsman': 'AJ Finch', 'bowler': 'PADLR Sandakan', 'non_striker': 'M Klinger', 'runs': {'batsman': 1, 'extras': 0, 'total': 1}}}, {6.2: {'batsman': 'M Klinger', 'bowler': 'PADLR Sandakan', 'non_striker': 'AJ Finch', 'runs': {'batsman': 1, 'extras': 0, 'total': 1}}}, {6.3: {'batsman': 'AJ Finch', 'bowler': 'PADLR Sandakan', 'non_striker': 'M Klinger', 'runs': {'batsman': 0, 'extras': 0, 'total': 0}}}, {6.4: {'batsman': 'AJ Finch', 'bowler': 'PADLR Sandakan', 'non_striker': 'M Klinger', 'runs': {'batsman': 1, 'extras': 0, 'total': 1}}}, {6.5: {'batsman': 'M Klinger', 'bowler': 'PADLR Sandakan', 'non_striker': 'AJ Finch', 'runs': {'batsman': 1, 'extras': 0, 'total': 1}}}, {6.6: {'batsman': 'AJ Finch', 'bowler': 'PADLR Sandakan', 'non_striker': 'M Klinger', 'runs': {'batsman': 2, 'extras': 0, 'total': 2}}}, {7.1: {'batsman': 'M Klinger', 'bowler': 'S Prasanna', 'non_striker': 'AJ Finch', 'runs': {'batsman': 0, 'extras': 0, 'total': 0}}}, {7.2: {'batsman': 'M Klinger', 'bowler': 'S Prasanna', 'non_striker': 'AJ Finch', 'runs': {'batsman': 1, 'extras': 0, 'total': 1}}}, {7.3: {'batsman': 'AJ Finch', 'bowler': 'S Prasanna', 'non_striker': 'M Klinger', 'runs': {'batsman': 1, 'extras': 0, 'total': 1}}}, {7.4: {'batsman': 'M Klinger', 'bowler': 'S Prasanna', 'extras': {'byes': 1}, 'non_striker': 'AJ Finch', 'runs': {'batsman': 0, 'extras': 1, 'total': 1}}}, {7.5: {'batsman': 'AJ Finch', 'bowler': 'S Prasanna', 'non_striker': 'M Klinger', 'runs': {'batsman': 4, 'extras': 0, 'total': 4}}}, {7.6: {'batsman': 'AJ Finch', 'bowler': 'S Prasanna', 'non_striker': 'M Klinger', 'runs': {'batsman': 1, 'extras': 0, 'total': 1}}}, {8.1: {'batsman': 'AJ Finch', 'bowler': 'PADLR Sandakan', 'non_striker': 'M Klinger', 'runs': {'batsman': 1, 'extras': 0, 'total': 1}}}, {8.2: {'batsman': 'M Klinger', 'bowler': 'PADLR Sandakan', 'non_striker': 'AJ Finch', 'runs': {'batsman': 3, 'extras': 0, 'total': 3}}}, {8.3: {'batsman': 'AJ Finch', 'bowler': 'PADLR Sandakan', 'non_striker': 'M Klinger', 'runs': {'batsman': 1, 'extras': 0, 'total': 1}}}, {8.4: {'batsman': 'M Klinger', 'bowler': 'PADLR Sandakan', 'non_striker': 'AJ Finch', 'runs': {'batsman': 0, 'extras': 0, 'total': 0}}}, {8.5: {'batsman': 'M Klinger', 'bowler': 'PADLR Sandakan', 'non_striker': 'AJ Finch', 'runs': {'batsman': 0, 'extras': 0, 'total': 0}}}, {8.6: {'batsman': 'M Klinger', 'bowler': 'PADLR Sandakan', 'non_striker': 'AJ Finch', 'runs': {'batsman': 1, 'extras': 0, 'total': 1}}}, {9.1: {'batsman': 'M Klinger', 'bowler': 'S Prasanna', 'non_striker': 'AJ Finch', 'runs': {'batsman': 1, 'extras': 0, 'total': 1}}}, {9.2: {'batsman': 'AJ Finch', 'bowler': 'S Prasanna', 'non_striker': 'M Klinger', 'runs': {'batsman': 0, 'extras': 0, 'total': 0}}}, {9.3: {'batsman': 'AJ Finch', 'bowler': 'S Prasanna', 'non_striker': 'M Klinger', 'runs': {'batsman': 0, 'extras': 0, 'total': 0}}}, {9.4: {'batsman': 'AJ Finch', 'bowler': 'S Prasanna', 'non_striker': 'M Klinger', 'runs': {'batsman': 0, 'extras': 0, 'total': 0}}}, {9.5: {'batsman': 'AJ Finch', 'bowler': 'S Prasanna', 'non_striker': 'M Klinger', 'runs': {'batsman': 6, 'extras': 0, 'total': 6}}}, {9.6: {'batsman': 'AJ Finch', 'bowler': 'S Prasanna', 'non_striker': 'M Klinger', 'runs': {'batsman': 1, 'extras': 0, 'total': 1}}}, {10.1: {'batsman': 'AJ Finch', 'bowler': 'PADLR Sandakan', 'non_striker': 'M Klinger', 'runs': {'batsman': 0, 'extras': 0, 'total': 0}}}, {10.2: {'batsman': 'AJ Finch', 'bowler': 'PADLR Sandakan', 'extras': {'legbyes': 1}, 'non_striker': 'M Klinger', 'runs': {'batsman': 0, 'extras': 1, 'total': 1}}}, {10.3: {'batsman': 'M Klinger', 'bowler': 'PADLR Sandakan', 'non_striker': 'AJ Finch', 'runs': {'batsman': 0, 'extras': 0, 'total': 0}, 'wicket': {'fielders': ['SL Malinga'], 'kind': 'caught', 'player_out': 'M Klinger'}}}, {10.4: {'batsman': 'TM Head', 'bowler': 'PADLR Sandakan', 'non_striker': 'AJ Finch', 'runs': {'batsman': 2, 'extras': 0, 'total': 2}}}, {10.5: {'batsman': 'TM Head', 'bowler': 'PADLR Sandakan', 'non_striker': 'AJ Finch', 'runs': {'batsman': 0, 'extras': 0, 'total': 0}}}, {10.6: {'batsman': 'TM Head', 'bowler': 'PADLR Sandakan', 'non_striker': 'AJ Finch', 'runs': {'batsman': 0, 'extras': 0, 'total': 0}}}, {11.1: {'batsman': 'AJ Finch', 'bowler': 'DAS Gunaratne', 'non_striker': 'TM Head', 'runs': {'batsman': 6, 'extras': 0, 'total': 6}}}, {11.2: {'batsman': 'AJ Finch', 'bowler': 'DAS Gunaratne', 'non_striker': 'TM Head', 'runs': {'batsman': 2, 'extras': 0, 'total': 2}}}, {11.3: {'batsman': 'AJ Finch', 'bowler': 'DAS Gunaratne', 'non_striker': 'TM Head', 'runs': {'batsman': 0, 'extras': 0, 'total': 0}, 'wicket': {'fielders': ['SL Malinga'], 'kind': 'caught', 'player_out': 'AJ Finch'}}}, {11.4: {'batsman': 'TM Head', 'bowler': 'DAS Gunaratne', 'non_striker': 'MC Henriques', 'runs': {'batsman': 1, 'extras': 0, 'total': 1}}}, {11.5: {'batsman': 'MC Henriques', 'bowler': 'DAS Gunaratne', 'non_striker': 'TM Head', 'runs': {'batsman': 1, 'extras': 0, 'total': 1}}}, {11.6: {'batsman': 'TM Head', 'bowler': 'DAS Gunaratne', 'non_striker': 'MC Henriques', 'runs': {'batsman': 1, 'extras': 0, 'total': 1}}}, {12.1: {'batsman': 'TM Head', 'bowler': 'S Prasanna', 'non_striker': 'MC Henriques', 'runs': {'batsman': 0, 'extras': 0, 'total': 0}}}, {12.2: {'batsman': 'TM Head', 'bowler': 'S Prasanna', 'non_striker': 'MC Henriques', 'runs': {'batsman': 1, 'extras': 0, 'total': 1}}}, {12.3: {'batsman': 'MC Henriques', 'bowler': 'S Prasanna', 'non_striker': 'TM Head', 'runs': {'batsman': 1, 'extras': 0, 'total': 1}}}, {12.4: {'batsman': 'TM Head', 'bowler': 'S Prasanna', 'non_striker': 'MC Henriques', 'runs': {'batsman': 0, 'extras': 0, 'total': 0}}}, {12.5: {'batsman': 'TM Head', 'bowler': 'S Prasanna', 'non_striker': 'MC Henriques', 'runs': {'batsman': 1, 'extras': 0, 'total': 1}}}, {12.6: {'batsman': 'MC Henriques', 'bowler': 'S Prasanna', 'non_striker': 'TM Head', 'runs': {'batsman': 1, 'extras': 0, 'total': 1}}}, {13.1: {'batsman': 'MC Henriques', 'bowler': 'SL Malinga', 'non_striker': 'TM Head', 'runs': {'batsman': 0, 'extras': 0, 'total': 0}}}, {13.2: {'batsman': 'MC Henriques', 'bowler': 'SL Malinga', 'extras': {'wides': 1}, 'non_striker': 'TM Head', 'runs': {'batsman': 0, 'extras': 1, 'total': 1}}}, {13.3: {'batsman': 'MC Henriques', 'bowler': 'SL Malinga', 'non_striker': 'TM Head', 'runs': {'batsman': 1, 'extras': 0, 'total': 1}}}, {13.4: {'batsman': 'TM Head', 'bowler': 'SL Malinga', 'non_striker': 'MC Henriques', 'runs': {'batsman': 2, 'extras': 0, 'total': 2}}}, {13.5: {'batsman': 'TM Head', 'bowler': 'SL Malinga', 'non_striker': 'MC Henriques', 'runs': {'batsman': 1, 'extras': 0, 'total': 1}}}, {13.6: {'batsman': 'MC Henriques', 'bowler': 'SL Malinga', 'non_striker': 'TM Head', 'runs': {'batsman': 1, 'extras': 0, 'total': 1}}}, {13.7: {'batsman': 'TM Head', 'bowler': 'SL Malinga', 'non_striker': 'MC Henriques', 'runs': {'batsman': 1, 'extras': 0, 'total': 1}}}, {14.1: {'batsman': 'TM Head', 'bowler': 'PADLR Sandakan', 'non_striker': 'MC Henriques', 'runs': {'batsman': 1, 'extras': 0, 'total': 1}}}, {14.2: {'batsman': 'MC Henriques', 'bowler': 'PADLR Sandakan', 'non_striker': 'TM Head', 'runs': {'batsman': 3, 'extras': 0, 'total': 3}}}, {14.3: {'batsman': 'TM Head', 'bowler': 'PADLR Sandakan', 'non_striker': 'MC Henriques', 'runs': {'batsman': 1, 'extras': 0, 'total': 1}}}, {14.4: {'batsman': 'MC Henriques', 'bowler': 'PADLR Sandakan', 'non_striker': 'TM Head', 'runs': {'batsman': 6, 'extras': 0, 'total': 6}}}, {14.5: {'batsman': 'MC Henriques', 'bowler': 'PADLR Sandakan', 'non_striker': 'TM Head', 'runs': {'batsman': 3, 'extras': 0, 'total': 3}}}, {14.6: {'batsman': 'TM Head', 'bowler': 'PADLR Sandakan', 'non_striker': 'MC Henriques', 'runs': {'batsman': 2, 'extras': 0, 'total': 2}}}, {15.1: {'batsman': 'MC Henriques', 'bowler': 'JRMVB Sanjaya', 'non_striker': 'TM Head', 'runs': {'batsman': 0, 'extras': 0, 'total': 0}, 'wicket': {'fielders': ['CK Kapugedera'], 'kind': 'caught', 'player_out': 'MC Henriques'}}}, {15.2: {'batsman': 'TM Head', 'bowler': 'JRMVB Sanjaya', 'non_striker': 'AJ Turner', 'runs': {'batsman': 1, 'extras': 0, 'total': 1}}}, {15.3: {'batsman': 'AJ Turner', 'bowler': 'JRMVB Sanjaya', 'non_striker': 'TM Head', 'runs': {'batsman': 2, 'extras': 0, 'total': 2}}}, {15.4: {'batsman': 'AJ Turner', 'bowler': 'JRMVB Sanjaya', 'non_striker': 'TM Head', 'runs': {'batsman': 1, 'extras': 0, 'total': 1}}}, {15.5: {'batsman': 'TM Head', 'bowler': 'JRMVB Sanjaya', 'non_striker': 'AJ Turner', 'runs': {'batsman': 2, 'extras': 0, 'total': 2}}}, {15.6: {'batsman': 'TM Head', 'bowler': 'JRMVB Sanjaya', 'extras': {'wides': 1}, 'non_striker': 'AJ Turner', 'runs': {'batsman': 0, 'extras': 1, 'total': 1}}}, {15.7: {'batsman': 'TM Head', 'bowler': 'JRMVB Sanjaya', 'non_striker': 'AJ Turner', 'runs': {'batsman': 6, 'extras': 0, 'total': 6}}}, {16.1: {'batsman': 'AJ Turner', 'bowler': 'SL Malinga', 'non_striker': 'TM Head', 'runs': {'batsman': 2, 'extras': 0, 'total': 2}}}, {16.2: {'batsman': 'AJ Turner', 'bowler': 'SL Malinga', 'non_striker': 'TM Head', 'runs': {'batsman': 4, 'extras': 0, 'total': 4}}}, {16.3: {'batsman': 'AJ Turner', 'bowler': 'SL Malinga', 'non_striker': 'TM Head', 'runs': {'batsman': 1, 'extras': 0, 'total': 1}}}, {16.4: {'batsman': 'TM Head', 'bowler': 'SL Malinga', 'non_striker': 'AJ Turner', 'runs': {'batsman': 1, 'extras': 0, 'total': 1}}}, {16.5: {'batsman': 'AJ Turner', 'bowler': 'SL Malinga', 'non_striker': 'TM Head', 'runs': {'batsman': 1, 'extras': 0, 'total': 1}}}, {16.6: {'batsman': 'TM Head', 'bowler': 'SL Malinga', 'non_striker': 'AJ Turner', 'runs': {'batsman': 1, 'extras': 0, 'total': 1}}}, {17.1: {'batsman': 'TM Head', 'bowler': 'KMDN Kulasekara', 'non_striker': 'AJ Turner', 'runs': {'batsman': 1, 'extras': 0, 'total': 1}}}, {17.2: {'batsman': 'AJ Turner', 'bowler': 'KMDN Kulasekara', 'non_striker': 'TM Head', 'runs': {'batsman': 2, 'extras': 0, 'total': 2}}}, {17.3: {'batsman': 'AJ Turner', 'bowler': 'KMDN Kulasekara', 'extras': {'noballs': 1}, 'non_striker': 'TM Head', 'runs': {'batsman': 0, 'extras': 1, 'total': 1}}}, {17.4: {'batsman': 'AJ Turner', 'bowler': 'KMDN Kulasekara', 'non_striker': 'TM Head', 'runs': {'batsman': 1, 'extras': 0, 'total': 1}}}, {17.5: {'batsman': 'TM Head', 'bowler': 'KMDN Kulasekara', 'non_striker': 'AJ Turner', 'runs': {'batsman': 1, 'extras': 0, 'total': 1}}}, {17.6: {'batsman': 'AJ Turner', 'bowler': 'KMDN Kulasekara', 'non_striker': 'TM Head', 'runs': {'batsman': 1, 'extras': 0, 'total': 1}}}, {17.7: {'batsman': 'TM Head', 'bowler': 'KMDN Kulasekara', 'non_striker': 'AJ Turner', 'runs': {'batsman': 2, 'extras': 0, 'total': 2}}}, {18.1: {'batsman': 'AJ Turner', 'bowler': 'SL Malinga', 'non_striker': 'TM Head', 'runs': {'batsman': 2, 'extras': 0, 'total': 2}}}, {18.2: {'batsman': 'AJ Turner', 'bowler': 'SL Malinga', 'non_striker': 'TM Head', 'runs': {'batsman': 1, 'extras': 0, 'total': 1}}}, {18.3: {'batsman': 'TM Head', 'bowler': 'SL Malinga', 'non_striker': 'AJ Turner', 'runs': {'batsman': 2, 'extras': 0, 'total': 2}}}, {18.4: {'batsman': 'TM Head', 'bowler': 'SL Malinga', 'non_striker': 'AJ Turner', 'runs': {'batsman': 0, 'extras': 0, 'total': 0}, 'wicket': {'fielders': ['S Prasanna'], 'kind': 'caught', 'player_out': 'TM Head'}}}, {18.5: {'batsman': 'AJ Turner', 'bowler': 'SL Malinga', 'non_striker': 'JP Faulkner', 'runs': {'batsman': 0, 'extras': 0, 'total': 0}, 'wicket': {'fielders': ['S Prasanna'], 'kind': 'caught', 'player_out': 'AJ Turner'}}}, {18.6: {'batsman': 'JP Faulkner', 'bowler': 'SL Malinga', 'non_striker': 'TD Paine', 'runs': {'batsman': 1, 'extras': 0, 'total': 1}}}, {19.1: {'batsman': 'JP Faulkner', 'bowler': 'KMDN Kulasekara', 'non_striker': 'TD Paine', 'runs': {'batsman': 4, 'extras': 0, 'total': 4}}}, {19.2: {'batsman': 'JP Faulkner', 'bowler': 'KMDN Kulasekara', 'non_striker': 'TD Paine', 'runs': {'batsman': 0, 'extras': 0, 'total': 0}}}, {19.3: {'batsman': 'JP Faulkner', 'bowler': 'KMDN Kulasekara', 'non_striker': 'TD Paine', 'runs': {'batsman': 2, 'extras': 0, 'total': 2}}}, {19.4: {'batsman': 'JP Faulkner', 'bowler': 'KMDN Kulasekara', 'extras': {'wides': 1}, 'non_striker': 'TD Paine', 'runs': {'batsman': 0, 'extras': 1, 'total': 1}}}, {19.5: {'batsman': 'JP Faulkner', 'bowler': 'KMDN Kulasekara', 'non_striker': 'TD Paine', 'runs': {'batsman': 1, 'extras': 0, 'total': 1}, 'wicket': {'fielders': ['CK Kapugedera', 'KMDN Kulasekara'], 'kind': 'run out', 'player_out': 'TD Paine'}}}, {19.6: {'batsman': 'JP Faulkner', 'bowler': 'KMDN Kulasekara', 'non_striker': 'PJ Cummins', 'runs': {'batsman': 2, 'extras': 0, 'total': 2}}}, {19.7: {'batsman': 'JP Faulkner', 'bowler': 'KMDN Kulasekara', 'non_striker': 'PJ Cummins', 'runs': {'batsman': 4, 'extras': 0, 'total': 4}}}]}}, {'2nd innings': {'team': 'Sri Lanka', 'deliveries': [{0.1: {'batsman': 'N Dickwella', 'bowler': 'PJ Cummins', 'non_striker': 'WU Tharanga', 'runs': {'batsman': 1, 'extras': 0, 'total': 1}}}, {0.2: {'batsman': 'WU Tharanga', 'bowler': 'PJ Cummins', 'extras': {'legbyes': 1}, 'non_striker': 'N Dickwella', 'runs': {'batsman': 0, 'extras': 1, 'total': 1}}}, {0.3: {'batsman': 'N Dickwella', 'bowler': 'PJ Cummins', 'non_striker': 'WU Tharanga', 'runs': {'batsman': 0, 'extras': 0, 'total': 0}}}, {0.4: {'batsman': 'N Dickwella', 'bowler': 'PJ Cummins', 'non_striker': 'WU Tharanga', 'runs': {'batsman': 0, 'extras': 0, 'total': 0}}}, {0.5: {'batsman': 'N Dickwella', 'bowler': 'PJ Cummins', 'non_striker': 'WU Tharanga', 'runs': {'batsman': 3, 'extras': 0, 'total': 3}}}, {0.6: {'batsman': 'WU Tharanga', 'bowler': 'PJ Cummins', 'non_striker': 'N Dickwella', 'runs': {'batsman': 0, 'extras': 0, 'total': 0}, 'wicket': {'fielders': ['TD Paine'], 'kind': 'caught', 'player_out': 'WU Tharanga'}}}, {1.1: {'batsman': 'N Dickwella', 'bowler': 'B Stanlake', 'extras': {'wides': 1}, 'non_striker': 'EMDY Munaweera', 'runs': {'batsman': 0, 'extras': 1, 'total': 1}}}, {1.2: {'batsman': 'N Dickwella', 'bowler': 'B Stanlake', 'extras': {'wides': 1}, 'non_striker': 'EMDY Munaweera', 'runs': {'batsman': 0, 'extras': 1, 'total': 1}}}, {1.3: {'batsman': 'N Dickwella', 'bowler': 'B Stanlake', 'non_striker': 'EMDY Munaweera', 'runs': {'batsman': 0, 'extras': 0, 'total': 0}}}, {1.4: {'batsman': 'N Dickwella', 'bowler': 'B Stanlake', 'non_striker': 'EMDY Munaweera', 'runs': {'batsman': 0, 'extras': 0, 'total': 0}}}, {1.5: {'batsman': 'N Dickwella', 'bowler': 'B Stanlake', 'non_striker': 'EMDY Munaweera', 'runs': {'batsman': 4, 'extras': 0, 'total': 4}}}, {1.6: {'batsman': 'N Dickwella', 'bowler': 'B Stanlake', 'non_striker': 'EMDY Munaweera', 'runs': {'batsman': 0, 'extras': 0, 'total': 0}}}, {1.7: {'batsman': 'N Dickwella', 'bowler': 'B Stanlake', 'non_striker': 'EMDY Munaweera', 'runs': {'batsman': 4, 'extras': 0, 'total': 4}}}, {1.8: {'batsman': 'N Dickwella', 'bowler': 'B Stanlake', 'non_striker': 'EMDY Munaweera', 'runs': {'batsman': 0, 'extras': 0, 'total': 0}}}, {2.1: {'batsman': 'EMDY Munaweera', 'bowler': 'PJ Cummins', 'non_striker': 'N Dickwella', 'runs': {'batsman': 0, 'extras': 0, 'total': 0}}}, {2.2: {'batsman': 'EMDY Munaweera', 'bowler': 'PJ Cummins', 'non_striker': 'N Dickwella', 'runs': {'batsman': 3, 'extras': 0, 'total': 3}}}, {2.3: {'batsman': 'N Dickwella', 'bowler': 'PJ Cummins', 'non_striker': 'EMDY Munaweera', 'runs': {'batsman': 0, 'extras': 0, 'total': 0}}}, {2.4: {'batsman': 'N Dickwella', 'bowler': 'PJ Cummins', 'non_striker': 'EMDY Munaweera', 'runs': {'batsman': 0, 'extras': 0, 'total': 0}}}, {2.5: {'batsman': 'N Dickwella', 'bowler': 'PJ Cummins', 'non_striker': 'EMDY Munaweera', 'runs': {'batsman': 0, 'extras': 0, 'total': 0}}}, {2.6: {'batsman': 'N Dickwella', 'bowler': 'PJ Cummins', 'non_striker': 'EMDY Munaweera', 'runs': {'batsman': 4, 'extras': 0, 'total': 4}}}, {3.1: {'batsman': 'EMDY Munaweera', 'bowler': 'B Stanlake', 'non_striker': 'N Dickwella', 'runs': {'batsman': 4, 'extras': 0, 'total': 4}}}, {3.2: {'batsman': 'EMDY Munaweera', 'bowler': 'B Stanlake', 'non_striker': 'N Dickwella', 'runs': {'batsman': 4, 'extras': 0, 'total': 4}}}, {3.3: {'batsman': 'EMDY Munaweera', 'bowler': 'B Stanlake', 'non_striker': 'N Dickwella', 'runs': {'batsman': 4, 'extras': 0, 'total': 4}}}, {3.4: {'batsman': 'EMDY Munaweera', 'bowler': 'B Stanlake', 'non_striker': 'N Dickwella', 'runs': {'batsman': 1, 'extras': 0, 'total': 1}}}, {3.5: {'batsman': 'N Dickwella', 'bowler': 'B Stanlake', 'non_striker': 'EMDY Munaweera', 'runs': {'batsman': 0, 'extras': 0, 'total': 0}}}, {3.6: {'batsman': 'N Dickwella', 'bowler': 'B Stanlake', 'extras': {'wides': 5}, 'non_striker': 'EMDY Munaweera', 'runs': {'batsman': 0, 'extras': 5, 'total': 5}}}, {3.7: {'batsman': 'N Dickwella', 'bowler': 'B Stanlake', 'non_striker': 'EMDY Munaweera', 'runs': {'batsman': 6, 'extras': 0, 'total': 6}}}, {4.1: {'batsman': 'EMDY Munaweera', 'bowler': 'JP Faulkner', 'non_striker': 'N Dickwella', 'runs': {'batsman': 0, 'extras': 0, 'total': 0}}}, {4.2: {'batsman': 'EMDY Munaweera', 'bowler': 'JP Faulkner', 'non_striker': 'N Dickwella', 'runs': {'batsman': 4, 'extras': 0, 'total': 4}}}, {4.3: {'batsman': 'EMDY Munaweera', 'bowler': 'JP Faulkner', 'non_striker': 'N Dickwella', 'runs': {'batsman': 0, 'extras': 0, 'total': 0}}}, {4.4: {'batsman': 'EMDY Munaweera', 'bowler': 'JP Faulkner', 'non_striker': 'N Dickwella', 'runs': {'batsman': 0, 'extras': 0, 'total': 0}}}, {4.5: {'batsman': 'EMDY Munaweera', 'bowler': 'JP Faulkner', 'non_striker': 'N Dickwella', 'runs': {'batsman': 1, 'extras': 0, 'total': 1}}}, {4.6: {'batsman': 'N Dickwella', 'bowler': 'JP Faulkner', 'non_striker': 'EMDY Munaweera', 'runs': {'batsman': 0, 'extras': 0, 'total': 0}}}, {5.1: {'batsman': 'EMDY Munaweera', 'bowler': 'AJ Tye', 'non_striker': 'N Dickwella', 'runs': {'batsman': 4, 'extras': 0, 'total': 4}}}, {5.2: {'batsman': 'EMDY Munaweera', 'bowler': 'AJ Tye', 'non_striker': 'N Dickwella', 'runs': {'batsman': 0, 'extras': 0, 'total': 0}}}, {5.3: {'batsman': 'EMDY Munaweera', 'bowler': 'AJ Tye', 'non_striker': 'N Dickwella', 'runs': {'batsman': 2, 'extras': 0, 'total': 2}}}, {5.4: {'batsman': 'EMDY Munaweera', 'bowler': 'AJ Tye', 'non_striker': 'N Dickwella', 'runs': {'batsman': 4, 'extras': 0, 'total': 4}}}, {5.5: {'batsman': 'EMDY Munaweera', 'bowler': 'AJ Tye', 'non_striker': 'N Dickwella', 'runs': {'batsman': 0, 'extras': 0, 'total': 0}}}, {5.6: {'batsman': 'EMDY Munaweera', 'bowler': 'AJ Tye', 'non_striker': 'N Dickwella', 'runs': {'batsman': 1, 'extras': 0, 'total': 1}}}, {6.1: {'batsman': 'EMDY Munaweera', 'bowler': 'A Zampa', 'non_striker': 'N Dickwella', 'runs': {'batsman': 1, 'extras': 0, 'total': 1}}}, {6.2: {'batsman': 'N Dickwella', 'bowler': 'A Zampa', 'non_striker': 'EMDY Munaweera', 'runs': {'batsman': 0, 'extras': 0, 'total': 0}}}, {6.3: {'batsman': 'N Dickwella', 'bowler': 'A Zampa', 'non_striker': 'EMDY Munaweera', 'runs': {'batsman': 1, 'extras': 0, 'total': 1}}}, {6.4: {'batsman': 'EMDY Munaweera', 'bowler': 'A Zampa', 'non_striker': 'N Dickwella', 'runs': {'batsman': 2, 'extras': 0, 'total': 2}}}, {6.5: {'batsman': 'EMDY Munaweera', 'bowler': 'A Zampa', 'non_striker': 'N Dickwella', 'runs': {'batsman': 0, 'extras': 0, 'total': 0}}}, {6.6: {'batsman': 'EMDY Munaweera', 'bowler': 'A Zampa', 'non_striker': 'N Dickwella', 'runs': {'batsman': 1, 'extras': 0, 'total': 1}}}, {7.1: {'batsman': 'EMDY Munaweera', 'bowler': 'AJ Turner', 'non_striker': 'N Dickwella', 'runs': {'batsman': 2, 'extras': 0, 'total': 2}}}, {7.2: {'batsman': 'EMDY Munaweera', 'bowler': 'AJ Turner', 'non_striker': 'N Dickwella', 'runs': {'batsman': 1, 'extras': 0, 'total': 1}}}, {7.3: {'batsman': 'N Dickwella', 'bowler': 'AJ Turner', 'non_striker': 'EMDY Munaweera', 'runs': {'batsman': 0, 'extras': 0, 'total': 0}}}, {7.4: {'batsman': 'N Dickwella', 'bowler': 'AJ Turner', 'non_striker': 'EMDY Munaweera', 'runs': {'batsman': 1, 'extras': 0, 'total': 1}}}, {7.5: {'batsman': 'EMDY Munaweera', 'bowler': 'AJ Turner', 'non_striker': 'N Dickwella', 'runs': {'batsman': 1, 'extras': 0, 'total': 1}}}, {7.6: {'batsman': 'N Dickwella', 'bowler': 'AJ Turner', 'non_striker': 'EMDY Munaweera', 'runs': {'batsman': 1, 'extras': 0, 'total': 1}}}, {8.1: {'batsman': 'N Dickwella', 'bowler': 'A Zampa', 'non_striker': 'EMDY Munaweera', 'runs': {'batsman': 1, 'extras': 0, 'total': 1}}}, {8.2: {'batsman': 'EMDY Munaweera', 'bowler': 'A Zampa', 'non_striker': 'N Dickwella', 'runs': {'batsman': 0, 'extras': 0, 'total': 0}}}, {8.3: {'batsman': 'EMDY Munaweera', 'bowler': 'A Zampa', 'non_striker': 'N Dickwella', 'runs': {'batsman': 1, 'extras': 0, 'total': 1}}}, {8.4: {'batsman': 'N Dickwella', 'bowler': 'A Zampa', 'non_striker': 'EMDY Munaweera', 'runs': {'batsman': 4, 'extras': 0, 'total': 4}}}, {8.5: {'batsman': 'N Dickwella', 'bowler': 'A Zampa', 'non_striker': 'EMDY Munaweera', 'runs': {'batsman': 0, 'extras': 0, 'total': 0}, 'wicket': {'fielders': ['M Klinger'], 'kind': 'caught', 'player_out': 'N Dickwella'}}}, {8.6: {'batsman': 'DAS Gunaratne', 'bowler': 'A Zampa', 'non_striker': 'EMDY Munaweera', 'runs': {'batsman': 1, 'extras': 0, 'total': 1}}}, {9.1: {'batsman': 'DAS Gunaratne', 'bowler': 'B Stanlake', 'non_striker': 'EMDY Munaweera', 'runs': {'batsman': 2, 'extras': 0, 'total': 2}}}, {9.2: {'batsman': 'DAS Gunaratne', 'bowler': 'B Stanlake', 'non_striker': 'EMDY Munaweera', 'runs': {'batsman': 0, 'extras': 0, 'total': 0}}}, {9.3: {'batsman': 'DAS Gunaratne', 'bowler': 'B Stanlake', 'non_striker': 'EMDY Munaweera', 'runs': {'batsman': 1, 'extras': 0, 'total': 1}}}, {9.4: {'batsman': 'EMDY Munaweera', 'bowler': 'B Stanlake', 'non_striker': 'DAS Gunaratne', 'runs': {'batsman': 1, 'extras': 0, 'total': 1}}}, {9.5: {'batsman': 'DAS Gunaratne', 'bowler': 'B Stanlake', 'non_striker': 'EMDY Munaweera', 'runs': {'batsman': 2, 'extras': 0, 'total': 2}}}, {9.6: {'batsman': 'DAS Gunaratne', 'bowler': 'B Stanlake', 'extras': {'wides': 1}, 'non_striker': 'EMDY Munaweera', 'runs': {'batsman': 0, 'extras': 1, 'total': 1}}}, {9.7: {'batsman': 'DAS Gunaratne', 'bowler': 'B Stanlake', 'non_striker': 'EMDY Munaweera', 'runs': {'batsman': 1, 'extras': 0, 'total': 1}}}, {10.1: {'batsman': 'DAS Gunaratne', 'bowler': 'A Zampa', 'non_striker': 'EMDY Munaweera', 'runs': {'batsman': 0, 'extras': 0, 'total': 0}}}, {10.2: {'batsman': 'DAS Gunaratne', 'bowler': 'A Zampa', 'non_striker': 'EMDY Munaweera', 'runs': {'batsman': 1, 'extras': 0, 'total': 1}}}, {10.3: {'batsman': 'EMDY Munaweera', 'bowler': 'A Zampa', 'non_striker': 'DAS Gunaratne', 'runs': {'batsman': 2, 'extras': 0, 'total': 2}}}, {10.4: {'batsman': 'EMDY Munaweera', 'bowler': 'A Zampa', 'non_striker': 'DAS Gunaratne', 'runs': {'batsman': 0, 'extras': 0, 'total': 0}, 'wicket': {'fielders': ['AJ Finch'], 'kind': 'caught', 'player_out': 'EMDY Munaweera'}}}, {10.5: {'batsman': 'TAM Siriwardana', 'bowler': 'A Zampa', 'non_striker': 'DAS Gunaratne', 'runs': {'batsman': 1, 'extras': 0, 'total': 1}}}, {10.6: {'batsman': 'DAS Gunaratne', 'bowler': 'A Zampa', 'non_striker': 'TAM Siriwardana', 'runs': {'batsman': 1, 'extras': 0, 'total': 1}}}, {11.1: {'batsman': 'DAS Gunaratne', 'bowler': 'JP Faulkner', 'non_striker': 'TAM Siriwardana', 'runs': {'batsman': 0, 'extras': 0, 'total': 0}}}, {11.2: {'batsman': 'DAS Gunaratne', 'bowler': 'JP Faulkner', 'extras': {'legbyes': 1}, 'non_striker': 'TAM Siriwardana', 'runs': {'batsman': 0, 'extras': 1, 'total': 1}}}, {11.3: {'batsman': 'TAM Siriwardana', 'bowler': 'JP Faulkner', 'non_striker': 'DAS Gunaratne', 'runs': {'batsman': 1, 'extras': 0, 'total': 1}}}, {11.4: {'batsman': 'DAS Gunaratne', 'bowler': 'JP Faulkner', 'non_striker': 'TAM Siriwardana', 'runs': {'batsman': 1, 'extras': 0, 'total': 1}}}, {11.5: {'batsman': 'TAM Siriwardana', 'bowler': 'JP Faulkner', 'non_striker': 'DAS Gunaratne', 'runs': {'batsman': 1, 'extras': 0, 'total': 1}}}, {11.6: {'batsman': 'DAS Gunaratne', 'bowler': 'JP Faulkner', 'non_striker': 'TAM Siriwardana', 'runs': {'batsman': 1, 'extras': 0, 'total': 1}}}, {12.1: {'batsman': 'DAS Gunaratne', 'bowler': 'A Zampa', 'non_striker': 'TAM Siriwardana', 'runs': {'batsman': 1, 'extras': 0, 'total': 1}}}, {12.2: {'batsman': 'TAM Siriwardana', 'bowler': 'A Zampa', 'non_striker': 'DAS Gunaratne', 'runs': {'batsman': 2, 'extras': 0, 'total': 2}}}, {12.3: {'batsman': 'TAM Siriwardana', 'bowler': 'A Zampa', 'non_striker': 'DAS Gunaratne', 'runs': {'batsman': 1, 'extras': 0, 'total': 1}}}, {12.4: {'batsman': 'DAS Gunaratne', 'bowler': 'A Zampa', 'non_striker': 'TAM Siriwardana', 'runs': {'batsman': 1, 'extras': 0, 'total': 1}}}, {12.5: {'batsman': 'TAM Siriwardana', 'bowler': 'A Zampa', 'non_striker': 'DAS Gunaratne', 'runs': {'batsman': 3, 'extras': 0, 'total': 3}}}, {12.6: {'batsman': 'DAS Gunaratne', 'bowler': 'A Zampa', 'non_striker': 'TAM Siriwardana', 'runs': {'batsman': 1, 'extras': 0, 'total': 1}}}, {13.1: {'batsman': 'DAS Gunaratne', 'bowler': 'AJ Tye', 'non_striker': 'TAM Siriwardana', 'runs': {'batsman': 4, 'extras': 0, 'total': 4}}}, {13.2: {'batsman': 'DAS Gunaratne', 'bowler': 'AJ Tye', 'non_striker': 'TAM Siriwardana', 'runs': {'batsman': 0, 'extras': 0, 'total': 0}}}, {13.3: {'batsman': 'DAS Gunaratne', 'bowler': 'AJ Tye', 'non_striker': 'TAM Siriwardana', 'runs': {'batsman': 4, 'extras': 0, 'total': 4}}}, {13.4: {'batsman': 'DAS Gunaratne', 'bowler': 'AJ Tye', 'non_striker': 'TAM Siriwardana', 'runs': {'batsman': 1, 'extras': 0, 'total': 1}}}, {13.5: {'batsman': 'TAM Siriwardana', 'bowler': 'AJ Tye', 'non_striker': 'DAS Gunaratne', 'runs': {'batsman': 4, 'extras': 0, 'total': 4}}}, {13.6: {'batsman': 'TAM Siriwardana', 'bowler': 'AJ Tye', 'non_striker': 'DAS Gunaratne', 'runs': {'batsman': 0, 'extras': 0, 'total': 0}}}, {14.1: {'batsman': 'DAS Gunaratne', 'bowler': 'PJ Cummins', 'non_striker': 'TAM Siriwardana', 'runs': {'batsman': 1, 'extras': 0, 'total': 1}}}, {14.2: {'batsman': 'TAM Siriwardana', 'bowler': 'PJ Cummins', 'non_striker': 'DAS Gunaratne', 'runs': {'batsman': 1, 'extras': 0, 'total': 1}}}, {14.3: {'batsman': 'DAS Gunaratne', 'bowler': 'PJ Cummins', 'non_striker': 'TAM Siriwardana', 'runs': {'batsman': 0, 'extras': 0, 'total': 0}}}, {14.4: {'batsman': 'DAS Gunaratne', 'bowler': 'PJ Cummins', 'non_striker': 'TAM Siriwardana', 'runs': {'batsman': 4, 'extras': 0, 'total': 4}}}, {14.5: {'batsman': 'DAS Gunaratne', 'bowler': 'PJ Cummins', 'non_striker': 'TAM Siriwardana', 'runs': {'batsman': 0, 'extras': 0, 'total': 0}}}, {14.6: {'batsman': 'DAS Gunaratne', 'bowler': 'PJ Cummins', 'non_striker': 'TAM Siriwardana', 'runs': {'batsman': 1, 'extras': 0, 'total': 1}}}, {15.1: {'batsman': 'DAS Gunaratne', 'bowler': 'JP Faulkner', 'non_striker': 'TAM Siriwardana', 'runs': {'batsman': 0, 'extras': 0, 'total': 0}}}, {15.2: {'batsman': 'DAS Gunaratne', 'bowler': 'JP Faulkner', 'non_striker': 'TAM Siriwardana', 'runs': {'batsman': 2, 'extras': 0, 'total': 2}}}, {15.3: {'batsman': 'DAS Gunaratne', 'bowler': 'JP Faulkner', 'non_striker': 'TAM Siriwardana', 'runs': {'batsman': 2, 'extras': 0, 'total': 2}}}, {15.4: {'batsman': 'DAS Gunaratne', 'bowler': 'JP Faulkner', 'non_striker': 'TAM Siriwardana', 'runs': {'batsman': 4, 'extras': 0, 'total': 4}}}, {15.5: {'batsman': 'DAS Gunaratne', 'bowler': 'JP Faulkner', 'non_striker': 'TAM Siriwardana', 'runs': {'batsman': 4, 'extras': 0, 'total': 4}}}, {15.6: {'batsman': 'DAS Gunaratne', 'bowler': 'JP Faulkner', 'non_striker': 'TAM Siriwardana', 'runs': {'batsman': 1, 'extras': 0, 'total': 1}}}, {16.1: {'batsman': 'DAS Gunaratne', 'bowler': 'PJ Cummins', 'non_striker': 'TAM Siriwardana', 'runs': {'batsman': 4, 'extras': 0, 'total': 4}}}, {16.2: {'batsman': 'DAS Gunaratne', 'bowler': 'PJ Cummins', 'non_striker': 'TAM Siriwardana', 'runs': {'batsman': 0, 'extras': 0, 'total': 0}}}, {16.3: {'batsman': 'DAS Gunaratne', 'bowler': 'PJ Cummins', 'non_striker': 'TAM Siriwardana', 'runs': {'batsman': 4, 'extras': 0, 'total': 4}}}, {16.4: {'batsman': 'DAS Gunaratne', 'bowler': 'PJ Cummins', 'non_striker': 'TAM Siriwardana', 'runs': {'batsman': 1, 'extras': 0, 'total': 1}}}, {16.5: {'batsman': 'TAM Siriwardana', 'bowler': 'PJ Cummins', 'non_striker': 'DAS Gunaratne', 'runs': {'batsman': 1, 'extras': 0, 'total': 1}}}, {16.6: {'batsman': 'DAS Gunaratne', 'bowler': 'PJ Cummins', 'non_striker': 'TAM Siriwardana', 'runs': {'batsman': 1, 'extras': 0, 'total': 1}}}, {17.1: {'batsman': 'DAS Gunaratne', 'bowler': 'AJ Turner', 'non_striker': 'TAM Siriwardana', 'runs': {'batsman': 0, 'extras': 0, 'total': 0}, 'wicket': {'fielders': ['TD Paine'], 'kind': 'stumped', 'player_out': 'DAS Gunaratne'}}}, {17.2: {'batsman': 'CK Kapugedera', 'bowler': 'AJ Turner', 'non_striker': 'TAM Siriwardana', 'runs': {'batsman': 1, 'extras': 0, 'total': 1}}}, {17.3: {'batsman': 'TAM Siriwardana', 'bowler': 'AJ Turner', 'non_striker': 'CK Kapugedera', 'runs': {'batsman': 0, 'extras': 0, 'total': 0}, 'wicket': {'kind': 'lbw', 'player_out': 'TAM Siriwardana'}}}, {17.4: {'batsman': 'S Prasanna', 'bowler': 'AJ Turner', 'non_striker': 'CK Kapugedera', 'runs': {'batsman': 0, 'extras': 0, 'total': 0}}}, {17.5: {'batsman': 'S Prasanna', 'bowler': 'AJ Turner', 'non_striker': 'CK Kapugedera', 'runs': {'batsman': 4, 'extras': 0, 'total': 4}}}, {17.6: {'batsman': 'S Prasanna', 'bowler': 'AJ Turner', 'non_striker': 'CK Kapugedera', 'runs': {'batsman': 1, 'extras': 0, 'total': 1}}}, {18.1: {'batsman': 'S Prasanna', 'bowler': 'JP Faulkner', 'non_striker': 'CK Kapugedera', 'runs': {'batsman': 1, 'extras': 0, 'total': 1}}}, {18.2: {'batsman': 'CK Kapugedera', 'bowler': 'JP Faulkner', 'non_striker': 'S Prasanna', 'runs': {'batsman': 1, 'extras': 0, 'total': 1}}}, {18.3: {'batsman': 'S Prasanna', 'bowler': 'JP Faulkner', 'extras': {'wides': 1}, 'non_striker': 'CK Kapugedera', 'runs': {'batsman': 0, 'extras': 1, 'total': 1}}}, {18.4: {'batsman': 'S Prasanna', 'bowler': 'JP Faulkner', 'non_striker': 'CK Kapugedera', 'runs': {'batsman': 1, 'extras': 0, 'total': 1}}}, {18.5: {'batsman': 'CK Kapugedera', 'bowler': 'JP Faulkner', 'non_striker': 'S Prasanna', 'runs': {'batsman': 0, 'extras': 0, 'total': 0}}}, {18.6: {'batsman': 'CK Kapugedera', 'bowler': 'JP Faulkner', 'non_striker': 'S Prasanna', 'runs': {'batsman': 1, 'extras': 0, 'total': 1}}}, {18.7: {'batsman': 'S Prasanna', 'bowler': 'JP Faulkner', 'extras': {'legbyes': 1}, 'non_striker': 'CK Kapugedera', 'runs': {'batsman': 0, 'extras': 1, 'total': 1}}}, {19.1: {'batsman': 'S Prasanna', 'bowler': 'AJ Tye', 'non_striker': 'CK Kapugedera', 'runs': {'batsman': 0, 'extras': 0, 'total': 0}}}, {19.2: {'batsman': 'S Prasanna', 'bowler': 'AJ Tye', 'extras': {'byes': 1}, 'non_striker': 'CK Kapugedera', 'runs': {'batsman': 0, 'extras': 1, 'total': 1}}}, {19.3: {'batsman': 'CK Kapugedera', 'bowler': 'AJ Tye', 'non_striker': 'S Prasanna', 'runs': {'batsman': 1, 'extras': 0, 'total': 1}}}, {19.4: {'batsman': 'S Prasanna', 'bowler': 'AJ Tye', 'non_striker': 'CK Kapugedera', 'runs': {'batsman': 1, 'extras': 0, 'total': 1}}}, {19.5: {'batsman': 'CK Kapugedera', 'bowler': 'AJ Tye', 'non_striker': 'S Prasanna', 'runs': {'batsman': 2, 'extras': 0, 'total': 2}}}, {19.6: {'batsman': 'CK Kapugedera', 'bowler': 'AJ Tye', 'non_striker': 'S Prasanna', 'runs': {'batsman': 4, 'extras': 0, 'total': 4}}}]}}]\""
            ]
          },
          "metadata": {
            "tags": []
          },
          "execution_count": 29
        }
      ]
    },
    {
      "cell_type": "code",
      "metadata": {
        "id": "gWeZXqjZ0RSF"
      },
      "source": [
        "game=eval(df['innings'][0])"
      ],
      "execution_count": 30,
      "outputs": []
    },
    {
      "cell_type": "code",
      "metadata": {
        "colab": {
          "base_uri": "https://localhost:8080/"
        },
        "id": "FL6wB-vvE1yP",
        "outputId": "2145906b-d94b-4786-ac24-527f57c911e1"
      },
      "source": [
        "len(game)"
      ],
      "execution_count": 31,
      "outputs": [
        {
          "output_type": "execute_result",
          "data": {
            "text/plain": [
              "2"
            ]
          },
          "metadata": {
            "tags": []
          },
          "execution_count": 31
        }
      ]
    },
    {
      "cell_type": "code",
      "metadata": {
        "id": "my0486El0RI0"
      },
      "source": [
        "first_inning =(game[0])\r\n",
        "second_inning=(game[1])\r\n"
      ],
      "execution_count": 32,
      "outputs": []
    },
    {
      "cell_type": "code",
      "metadata": {
        "id": "VVQelzhEGLM3"
      },
      "source": [
        " a=first_inning['1st innings']['deliveries']\r\n",
        " b=second_inning['2nd innings']['deliveries']"
      ],
      "execution_count": 33,
      "outputs": []
    },
    {
      "cell_type": "code",
      "metadata": {
        "id": "UtYPkeUk0RDj"
      },
      "source": [
        "def score_recorder(inning):\r\n",
        "\r\n",
        " score=pd.DataFrame(columns=['Over','Runs_Score'])\r\n",
        " for ball in inning:\r\n",
        "  over= (int(list(ball.keys())[0])+1)\r\n",
        "  runs=(ball[(list(ball.keys())[0])]['runs']['total'])\r\n",
        "  score=score.append({'Over':over,'Runs_Score':runs},ignore_index=True)\r\n",
        "  score=score.groupby('Over')['Runs_Score'].sum().reset_index()\r\n",
        "  score['Total_Runs']=score['Runs_Score'].cumsum()\r\n",
        "  score['Team']=\r\n",
        " return score"
      ],
      "execution_count": 58,
      "outputs": []
    },
    {
      "cell_type": "code",
      "metadata": {
        "id": "rvHoTMWDWgfk"
      },
      "source": [
        "score_for_first=score_recorder(a)\r\n",
        "score_for_second=score_recorder(b)"
      ],
      "execution_count": 59,
      "outputs": []
    },
    {
      "cell_type": "code",
      "metadata": {
        "id": "qW1x81hvRoRZ"
      },
      "source": [
        "score_for_first['Team']=first_inning['1st innings']['team']\r\n",
        "score_for_second['Team']=second_inning['2nd innings']['team']"
      ],
      "execution_count": 65,
      "outputs": []
    },
    {
      "cell_type": "code",
      "metadata": {
        "colab": {
          "base_uri": "https://localhost:8080/",
          "height": 669
        },
        "id": "oiaP4towSINE",
        "outputId": "300f3092-26dd-46d5-9fc2-926052dc56a5"
      },
      "source": [
        "score_for_first"
      ],
      "execution_count": 64,
      "outputs": [
        {
          "output_type": "execute_result",
          "data": {
            "text/html": [
              "<div>\n",
              "<style scoped>\n",
              "    .dataframe tbody tr th:only-of-type {\n",
              "        vertical-align: middle;\n",
              "    }\n",
              "\n",
              "    .dataframe tbody tr th {\n",
              "        vertical-align: top;\n",
              "    }\n",
              "\n",
              "    .dataframe thead th {\n",
              "        text-align: right;\n",
              "    }\n",
              "</style>\n",
              "<table border=\"1\" class=\"dataframe\">\n",
              "  <thead>\n",
              "    <tr style=\"text-align: right;\">\n",
              "      <th></th>\n",
              "      <th>Over</th>\n",
              "      <th>Runs_Score</th>\n",
              "      <th>Total_Runs</th>\n",
              "      <th>Team</th>\n",
              "    </tr>\n",
              "  </thead>\n",
              "  <tbody>\n",
              "    <tr>\n",
              "      <th>0</th>\n",
              "      <td>1.0</td>\n",
              "      <td>6.0</td>\n",
              "      <td>6.0</td>\n",
              "      <td>Australia</td>\n",
              "    </tr>\n",
              "    <tr>\n",
              "      <th>1</th>\n",
              "      <td>2.0</td>\n",
              "      <td>7.0</td>\n",
              "      <td>13.0</td>\n",
              "      <td>Australia</td>\n",
              "    </tr>\n",
              "    <tr>\n",
              "      <th>2</th>\n",
              "      <td>3.0</td>\n",
              "      <td>6.0</td>\n",
              "      <td>19.0</td>\n",
              "      <td>Australia</td>\n",
              "    </tr>\n",
              "    <tr>\n",
              "      <th>3</th>\n",
              "      <td>4.0</td>\n",
              "      <td>8.0</td>\n",
              "      <td>27.0</td>\n",
              "      <td>Australia</td>\n",
              "    </tr>\n",
              "    <tr>\n",
              "      <th>4</th>\n",
              "      <td>5.0</td>\n",
              "      <td>16.0</td>\n",
              "      <td>43.0</td>\n",
              "      <td>Australia</td>\n",
              "    </tr>\n",
              "    <tr>\n",
              "      <th>5</th>\n",
              "      <td>6.0</td>\n",
              "      <td>4.0</td>\n",
              "      <td>47.0</td>\n",
              "      <td>Australia</td>\n",
              "    </tr>\n",
              "    <tr>\n",
              "      <th>6</th>\n",
              "      <td>7.0</td>\n",
              "      <td>6.0</td>\n",
              "      <td>53.0</td>\n",
              "      <td>Australia</td>\n",
              "    </tr>\n",
              "    <tr>\n",
              "      <th>7</th>\n",
              "      <td>8.0</td>\n",
              "      <td>8.0</td>\n",
              "      <td>61.0</td>\n",
              "      <td>Australia</td>\n",
              "    </tr>\n",
              "    <tr>\n",
              "      <th>8</th>\n",
              "      <td>9.0</td>\n",
              "      <td>6.0</td>\n",
              "      <td>67.0</td>\n",
              "      <td>Australia</td>\n",
              "    </tr>\n",
              "    <tr>\n",
              "      <th>9</th>\n",
              "      <td>10.0</td>\n",
              "      <td>8.0</td>\n",
              "      <td>75.0</td>\n",
              "      <td>Australia</td>\n",
              "    </tr>\n",
              "    <tr>\n",
              "      <th>10</th>\n",
              "      <td>11.0</td>\n",
              "      <td>3.0</td>\n",
              "      <td>78.0</td>\n",
              "      <td>Australia</td>\n",
              "    </tr>\n",
              "    <tr>\n",
              "      <th>11</th>\n",
              "      <td>12.0</td>\n",
              "      <td>11.0</td>\n",
              "      <td>89.0</td>\n",
              "      <td>Australia</td>\n",
              "    </tr>\n",
              "    <tr>\n",
              "      <th>12</th>\n",
              "      <td>13.0</td>\n",
              "      <td>4.0</td>\n",
              "      <td>93.0</td>\n",
              "      <td>Australia</td>\n",
              "    </tr>\n",
              "    <tr>\n",
              "      <th>13</th>\n",
              "      <td>14.0</td>\n",
              "      <td>7.0</td>\n",
              "      <td>100.0</td>\n",
              "      <td>Australia</td>\n",
              "    </tr>\n",
              "    <tr>\n",
              "      <th>14</th>\n",
              "      <td>15.0</td>\n",
              "      <td>16.0</td>\n",
              "      <td>116.0</td>\n",
              "      <td>Australia</td>\n",
              "    </tr>\n",
              "    <tr>\n",
              "      <th>15</th>\n",
              "      <td>16.0</td>\n",
              "      <td>13.0</td>\n",
              "      <td>129.0</td>\n",
              "      <td>Australia</td>\n",
              "    </tr>\n",
              "    <tr>\n",
              "      <th>16</th>\n",
              "      <td>17.0</td>\n",
              "      <td>10.0</td>\n",
              "      <td>139.0</td>\n",
              "      <td>Australia</td>\n",
              "    </tr>\n",
              "    <tr>\n",
              "      <th>17</th>\n",
              "      <td>18.0</td>\n",
              "      <td>9.0</td>\n",
              "      <td>148.0</td>\n",
              "      <td>Australia</td>\n",
              "    </tr>\n",
              "    <tr>\n",
              "      <th>18</th>\n",
              "      <td>19.0</td>\n",
              "      <td>6.0</td>\n",
              "      <td>154.0</td>\n",
              "      <td>Australia</td>\n",
              "    </tr>\n",
              "    <tr>\n",
              "      <th>19</th>\n",
              "      <td>20.0</td>\n",
              "      <td>14.0</td>\n",
              "      <td>168.0</td>\n",
              "      <td>Australia</td>\n",
              "    </tr>\n",
              "  </tbody>\n",
              "</table>\n",
              "</div>"
            ],
            "text/plain": [
              "    Over  Runs_Score  Total_Runs       Team\n",
              "0    1.0         6.0         6.0  Australia\n",
              "1    2.0         7.0        13.0  Australia\n",
              "2    3.0         6.0        19.0  Australia\n",
              "3    4.0         8.0        27.0  Australia\n",
              "4    5.0        16.0        43.0  Australia\n",
              "5    6.0         4.0        47.0  Australia\n",
              "6    7.0         6.0        53.0  Australia\n",
              "7    8.0         8.0        61.0  Australia\n",
              "8    9.0         6.0        67.0  Australia\n",
              "9   10.0         8.0        75.0  Australia\n",
              "10  11.0         3.0        78.0  Australia\n",
              "11  12.0        11.0        89.0  Australia\n",
              "12  13.0         4.0        93.0  Australia\n",
              "13  14.0         7.0       100.0  Australia\n",
              "14  15.0        16.0       116.0  Australia\n",
              "15  16.0        13.0       129.0  Australia\n",
              "16  17.0        10.0       139.0  Australia\n",
              "17  18.0         9.0       148.0  Australia\n",
              "18  19.0         6.0       154.0  Australia\n",
              "19  20.0        14.0       168.0  Australia"
            ]
          },
          "metadata": {
            "tags": []
          },
          "execution_count": 64
        }
      ]
    },
    {
      "cell_type": "code",
      "metadata": {
        "id": "WDX8ClYG0Q-n"
      },
      "source": [
        "sns.lineplot(x=\"Over\", y=\"Total_Runs\", hue=\"Team\", data=)                               "
      ],
      "execution_count": null,
      "outputs": []
    },
    {
      "cell_type": "code",
      "metadata": {
        "id": "aDVsuCBP0Q5O",
        "colab": {
          "base_uri": "https://localhost:8080/",
          "height": 669
        },
        "outputId": "21d07bbc-5a13-437b-c68f-9cc4acb90161"
      },
      "source": [
        "score_for_second"
      ],
      "execution_count": 66,
      "outputs": [
        {
          "output_type": "execute_result",
          "data": {
            "text/html": [
              "<div>\n",
              "<style scoped>\n",
              "    .dataframe tbody tr th:only-of-type {\n",
              "        vertical-align: middle;\n",
              "    }\n",
              "\n",
              "    .dataframe tbody tr th {\n",
              "        vertical-align: top;\n",
              "    }\n",
              "\n",
              "    .dataframe thead th {\n",
              "        text-align: right;\n",
              "    }\n",
              "</style>\n",
              "<table border=\"1\" class=\"dataframe\">\n",
              "  <thead>\n",
              "    <tr style=\"text-align: right;\">\n",
              "      <th></th>\n",
              "      <th>Over</th>\n",
              "      <th>Runs_Score</th>\n",
              "      <th>Total_Runs</th>\n",
              "      <th>Team</th>\n",
              "    </tr>\n",
              "  </thead>\n",
              "  <tbody>\n",
              "    <tr>\n",
              "      <th>0</th>\n",
              "      <td>1.0</td>\n",
              "      <td>5.0</td>\n",
              "      <td>5.0</td>\n",
              "      <td>Sri Lanka</td>\n",
              "    </tr>\n",
              "    <tr>\n",
              "      <th>1</th>\n",
              "      <td>2.0</td>\n",
              "      <td>10.0</td>\n",
              "      <td>15.0</td>\n",
              "      <td>Sri Lanka</td>\n",
              "    </tr>\n",
              "    <tr>\n",
              "      <th>2</th>\n",
              "      <td>3.0</td>\n",
              "      <td>7.0</td>\n",
              "      <td>22.0</td>\n",
              "      <td>Sri Lanka</td>\n",
              "    </tr>\n",
              "    <tr>\n",
              "      <th>3</th>\n",
              "      <td>4.0</td>\n",
              "      <td>24.0</td>\n",
              "      <td>46.0</td>\n",
              "      <td>Sri Lanka</td>\n",
              "    </tr>\n",
              "    <tr>\n",
              "      <th>4</th>\n",
              "      <td>5.0</td>\n",
              "      <td>5.0</td>\n",
              "      <td>51.0</td>\n",
              "      <td>Sri Lanka</td>\n",
              "    </tr>\n",
              "    <tr>\n",
              "      <th>5</th>\n",
              "      <td>6.0</td>\n",
              "      <td>11.0</td>\n",
              "      <td>62.0</td>\n",
              "      <td>Sri Lanka</td>\n",
              "    </tr>\n",
              "    <tr>\n",
              "      <th>6</th>\n",
              "      <td>7.0</td>\n",
              "      <td>5.0</td>\n",
              "      <td>67.0</td>\n",
              "      <td>Sri Lanka</td>\n",
              "    </tr>\n",
              "    <tr>\n",
              "      <th>7</th>\n",
              "      <td>8.0</td>\n",
              "      <td>6.0</td>\n",
              "      <td>73.0</td>\n",
              "      <td>Sri Lanka</td>\n",
              "    </tr>\n",
              "    <tr>\n",
              "      <th>8</th>\n",
              "      <td>9.0</td>\n",
              "      <td>7.0</td>\n",
              "      <td>80.0</td>\n",
              "      <td>Sri Lanka</td>\n",
              "    </tr>\n",
              "    <tr>\n",
              "      <th>9</th>\n",
              "      <td>10.0</td>\n",
              "      <td>8.0</td>\n",
              "      <td>88.0</td>\n",
              "      <td>Sri Lanka</td>\n",
              "    </tr>\n",
              "    <tr>\n",
              "      <th>10</th>\n",
              "      <td>11.0</td>\n",
              "      <td>5.0</td>\n",
              "      <td>93.0</td>\n",
              "      <td>Sri Lanka</td>\n",
              "    </tr>\n",
              "    <tr>\n",
              "      <th>11</th>\n",
              "      <td>12.0</td>\n",
              "      <td>5.0</td>\n",
              "      <td>98.0</td>\n",
              "      <td>Sri Lanka</td>\n",
              "    </tr>\n",
              "    <tr>\n",
              "      <th>12</th>\n",
              "      <td>13.0</td>\n",
              "      <td>9.0</td>\n",
              "      <td>107.0</td>\n",
              "      <td>Sri Lanka</td>\n",
              "    </tr>\n",
              "    <tr>\n",
              "      <th>13</th>\n",
              "      <td>14.0</td>\n",
              "      <td>13.0</td>\n",
              "      <td>120.0</td>\n",
              "      <td>Sri Lanka</td>\n",
              "    </tr>\n",
              "    <tr>\n",
              "      <th>14</th>\n",
              "      <td>15.0</td>\n",
              "      <td>7.0</td>\n",
              "      <td>127.0</td>\n",
              "      <td>Sri Lanka</td>\n",
              "    </tr>\n",
              "    <tr>\n",
              "      <th>15</th>\n",
              "      <td>16.0</td>\n",
              "      <td>13.0</td>\n",
              "      <td>140.0</td>\n",
              "      <td>Sri Lanka</td>\n",
              "    </tr>\n",
              "    <tr>\n",
              "      <th>16</th>\n",
              "      <td>17.0</td>\n",
              "      <td>11.0</td>\n",
              "      <td>151.0</td>\n",
              "      <td>Sri Lanka</td>\n",
              "    </tr>\n",
              "    <tr>\n",
              "      <th>17</th>\n",
              "      <td>18.0</td>\n",
              "      <td>6.0</td>\n",
              "      <td>157.0</td>\n",
              "      <td>Sri Lanka</td>\n",
              "    </tr>\n",
              "    <tr>\n",
              "      <th>18</th>\n",
              "      <td>19.0</td>\n",
              "      <td>6.0</td>\n",
              "      <td>163.0</td>\n",
              "      <td>Sri Lanka</td>\n",
              "    </tr>\n",
              "    <tr>\n",
              "      <th>19</th>\n",
              "      <td>20.0</td>\n",
              "      <td>9.0</td>\n",
              "      <td>172.0</td>\n",
              "      <td>Sri Lanka</td>\n",
              "    </tr>\n",
              "  </tbody>\n",
              "</table>\n",
              "</div>"
            ],
            "text/plain": [
              "    Over  Runs_Score  Total_Runs       Team\n",
              "0    1.0         5.0         5.0  Sri Lanka\n",
              "1    2.0        10.0        15.0  Sri Lanka\n",
              "2    3.0         7.0        22.0  Sri Lanka\n",
              "3    4.0        24.0        46.0  Sri Lanka\n",
              "4    5.0         5.0        51.0  Sri Lanka\n",
              "5    6.0        11.0        62.0  Sri Lanka\n",
              "6    7.0         5.0        67.0  Sri Lanka\n",
              "7    8.0         6.0        73.0  Sri Lanka\n",
              "8    9.0         7.0        80.0  Sri Lanka\n",
              "9   10.0         8.0        88.0  Sri Lanka\n",
              "10  11.0         5.0        93.0  Sri Lanka\n",
              "11  12.0         5.0        98.0  Sri Lanka\n",
              "12  13.0         9.0       107.0  Sri Lanka\n",
              "13  14.0        13.0       120.0  Sri Lanka\n",
              "14  15.0         7.0       127.0  Sri Lanka\n",
              "15  16.0        13.0       140.0  Sri Lanka\n",
              "16  17.0        11.0       151.0  Sri Lanka\n",
              "17  18.0         6.0       157.0  Sri Lanka\n",
              "18  19.0         6.0       163.0  Sri Lanka\n",
              "19  20.0         9.0       172.0  Sri Lanka"
            ]
          },
          "metadata": {
            "tags": []
          },
          "execution_count": 66
        }
      ]
    },
    {
      "cell_type": "code",
      "metadata": {
        "id": "ElnLoQWb0Q0m"
      },
      "source": [
        "finle_match_summary=pd.concat([score_for_first,score_for_second])"
      ],
      "execution_count": 77,
      "outputs": []
    },
    {
      "cell_type": "code",
      "metadata": {
        "id": "6egpLGcp0Qvp",
        "colab": {
          "base_uri": "https://localhost:8080/",
          "height": 296
        },
        "outputId": "828e3066-5137-4f88-8b45-92f7604d2e6c"
      },
      "source": [
        "sns.lineplot(x=\"Over\", y=\"Total_Runs\", hue=\"Team\", data=finle_match_summary)                               "
      ],
      "execution_count": 78,
      "outputs": [
        {
          "output_type": "execute_result",
          "data": {
            "text/plain": [
              "<matplotlib.axes._subplots.AxesSubplot at 0x7f97c20ea710>"
            ]
          },
          "metadata": {
            "tags": []
          },
          "execution_count": 78
        },
        {
          "output_type": "display_data",
          "data": {
            "image/png": "[encoded data removed]",
            "text/plain": [
              "<Figure size 432x288 with 1 Axes>"
            ]
          },
          "metadata": {
            "tags": [],
            "needs_background": "light"
          }
        }
      ]
    }
  ]
}